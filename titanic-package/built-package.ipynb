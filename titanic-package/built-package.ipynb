{
 "cells": [
  {
   "cell_type": "markdown",
   "id": "auburn-horror",
   "metadata": {},
   "source": [
    "# Python Package Helper\n",
    "### This notebook simply helps building our python package and uploading it to GCP"
   ]
  },
  {
   "cell_type": "code",
   "execution_count": 1,
   "id": "endangered-insider",
   "metadata": {},
   "outputs": [],
   "source": [
    "PROJECT_ID=!gcloud config get-value project # returns default project id \n",
    "PROJECT_ID=PROJECT_ID[0]\n",
    "BUCKET = \"gs://\"+PROJECT_ID"
   ]
  },
  {
   "cell_type": "markdown",
   "id": "blank-catch",
   "metadata": {},
   "source": [
    "### Test Module Locally \n",
    "Testing if it can run locally before runing it remotely. \n",
    "It does not matter how much data we use, \n",
    "we just want to ensure that it executes. (so if possible just use few data only)"
   ]
  },
  {
   "cell_type": "markdown",
   "id": "sudden-behalf",
   "metadata": {},
   "source": [
    "The below will execute using data on GCS in the form of CSVs"
   ]
  },
  {
   "cell_type": "code",
   "execution_count": 5,
   "id": "corrected-stick",
   "metadata": {},
   "outputs": [
    {
     "name": "stdout",
     "output_type": "stream",
     "text": [
      "Collecting cloudml-hypertune\n",
      "  Downloading cloudml-hypertune-0.1.0.dev6.tar.gz (3.2 kB)\n",
      "Building wheels for collected packages: cloudml-hypertune\n",
      "  Building wheel for cloudml-hypertune (setup.py) ... \u001b[?25ldone\n",
      "\u001b[?25h  Created wheel for cloudml-hypertune: filename=cloudml_hypertune-0.1.0.dev6-py2.py3-none-any.whl size=3988 sha256=79e38255e267b3d3175add9edab96a517be2d2477f37fae2c706e7089f3e87bc\n",
      "  Stored in directory: /home/jupyter/.cache/pip/wheels/a7/ff/87/e7bed0c2741fe219b3d6da67c2431d7f7fedb183032e00f81e\n",
      "Successfully built cloudml-hypertune\n",
      "Installing collected packages: cloudml-hypertune\n",
      "Successfully installed cloudml-hypertune-0.1.0.dev6\n"
     ]
    }
   ],
   "source": [
    "!pip install cloudml-hypertune"
   ]
  },
  {
   "cell_type": "code",
   "execution_count": 27,
   "id": "mineral-brain",
   "metadata": {},
   "outputs": [
    {
     "name": "stdout",
     "output_type": "stream",
     "text": [
      "INFO:root:Model artifacts will be exported here: gs://myfirstproject-226013/telco-churn/assets_v0\n",
      "INFO:root:Data format: csv\n",
      "INFO:root:Training data uri: gs://myfirstproject-226013/telco-churn/data/data_*.csv\n",
      "INFO:root:Validation data uri: gs://myfirstproject-226013/telco-churn/data/data_*.csv\n",
      "INFO:root:Test data uri: gs://myfirstproject-226013/telco-churn/data/data_*.csv\n",
      "INFO:root:Loading csv data\n",
      "INFO:root:reading gs data: gs://myfirstproject-226013/telco-churn/data/data_*.csv\n",
      "INFO:root:reading gs data: gs://myfirstproject-226013/telco-churn/data/data_*.csv\n",
      "INFO:root:Defining model parameters\n",
      "INFO:root:Running feature selection\n",
      "INFO:root:Training pipelines in CV\n",
      "INFO:root:Export trained pipeline and report\n",
      "INFO:root:f1score: 0.8221034319689331\n",
      "INFO:root:Train completed. Exiting...\n"
     ]
    }
   ],
   "source": [
    "!python3 -m trainer.task -v \\\n",
    "    --model_param_kernel=linear \\\n",
    "    --model_dir=$BUCKET\"/titanic/assets_v0\" \\\n",
    "    --data_format=csv \\\n",
    "    --training_data_uri=$BUCKET\"/titanic-churn/data/data_*.csv\" \\\n",
    "    --test_data_uri=$BUCKET\"/telco-titanic/data/data_*.csv\" \\\n",
    "    --validation_data_uri=$BUCKET\"/titanic-churn/data/data_*.csv\" \\\n",
    "    --model_param_C 5.5 \\\n",
    "    --model_param_kernel poly"
   ]
  },
  {
   "cell_type": "markdown",
   "id": "suspected-smart",
   "metadata": {},
   "source": [
    "The below will execute using data from BigQuery"
   ]
  },
  {
   "cell_type": "code",
   "execution_count": 7,
   "id": "metallic-discussion",
   "metadata": {},
   "outputs": [
    {
     "name": "stdout",
     "output_type": "stream",
     "text": [
      "INFO:root:Model artifacts will be exported here: gs://myfirstproject-226013/telco-churn/assets_v0\n",
      "INFO:root:Data format: bigquery\n",
      "INFO:root:Training data uri: bq://myfirstproject-226013.telco.churn\n",
      "INFO:root:Validation data uri: bq://myfirstproject-226013.telco.churn\n",
      "INFO:root:Test data uri: bq://myfirstproject-226013.telco.churn\n",
      "INFO:root:Loading bigquery data\n",
      "bq://myfirstproject-226013.telco.churn\n",
      "INFO:root:reading bq data: bq://myfirstproject-226013.telco.churn\n",
      "INFO:root:reading bq data: bq://myfirstproject-226013.telco.churn\n",
      "INFO:root:Defining model parameters\n",
      "INFO:root:Running feature selection\n",
      "INFO:root:Training pipelines in CV\n",
      "INFO:root:Export trained pipeline and report\n",
      "INFO:root:Train completed. Exiting...\n"
     ]
    }
   ],
   "source": [
    "!python3 -m trainer.task -v \\\n",
    "    --model_param_kernel=linear \\\n",
    "    --model_dir=$BUCKET\"/titanic/assets_v0\" \\\n",
    "    --data_format=bigquery \\\n",
    "    --training_data_uri=\"bq://\"$PROJECT_ID\".telco.churn\" \\\n",
    "    --test_data_uri=\"bq://\"$PROJECT_ID\".telco.churn\" \\\n",
    "    --validation_data_uri=\"bq://\"$PROJECT_ID\".telco.churn\""
   ]
  },
  {
   "cell_type": "markdown",
   "id": "exceptional-encounter",
   "metadata": {},
   "source": [
    "### Built the package"
   ]
  },
  {
   "cell_type": "code",
   "execution_count": 28,
   "id": "simplified-lotus",
   "metadata": {},
   "outputs": [
    {
     "name": "stdout",
     "output_type": "stream",
     "text": [
      "running sdist\n",
      "running egg_info\n",
      "writing trainer.egg-info/PKG-INFO\n",
      "writing dependency_links to trainer.egg-info/dependency_links.txt\n",
      "writing requirements to trainer.egg-info/requires.txt\n",
      "writing top-level names to trainer.egg-info/top_level.txt\n",
      "reading manifest file 'trainer.egg-info/SOURCES.txt'\n",
      "writing manifest file 'trainer.egg-info/SOURCES.txt'\n",
      "warning: sdist: standard file not found: should have one of README, README.rst, README.txt, README.md\n",
      "\n",
      "running check\n",
      "warning: check: missing required meta-data: url\n",
      "\n",
      "warning: check: missing meta-data: if 'author' supplied, 'author_email' must be supplied too\n",
      "\n",
      "creating trainer-0.1\n",
      "creating trainer-0.1/trainer\n",
      "creating trainer-0.1/trainer.egg-info\n",
      "copying files to trainer-0.1...\n",
      "copying setup.py -> trainer-0.1\n",
      "copying trainer/__init__.py -> trainer-0.1/trainer\n",
      "copying trainer/task.py -> trainer-0.1/trainer\n",
      "copying trainer.egg-info/PKG-INFO -> trainer-0.1/trainer.egg-info\n",
      "copying trainer.egg-info/SOURCES.txt -> trainer-0.1/trainer.egg-info\n",
      "copying trainer.egg-info/dependency_links.txt -> trainer-0.1/trainer.egg-info\n",
      "copying trainer.egg-info/requires.txt -> trainer-0.1/trainer.egg-info\n",
      "copying trainer.egg-info/top_level.txt -> trainer-0.1/trainer.egg-info\n",
      "Writing trainer-0.1/setup.cfg\n",
      "Creating tar archive\n",
      "removing 'trainer-0.1' (and everything under it)\n"
     ]
    }
   ],
   "source": [
    "!python setup.py sdist"
   ]
  },
  {
   "cell_type": "markdown",
   "id": "collectible-research",
   "metadata": {},
   "source": [
    "### Upload package to GCP"
   ]
  },
  {
   "cell_type": "code",
   "execution_count": 29,
   "id": "bulgarian-ocean",
   "metadata": {},
   "outputs": [
    {
     "name": "stdout",
     "output_type": "stream",
     "text": [
      "Copying file://dist/trainer-0.1.tar.gz [Content-Type=application/x-tar]...\n",
      "/ [1 files][  6.1 KiB/  6.1 KiB]                                                \n",
      "Operation completed over 1 objects/6.1 KiB.                                      \n"
     ]
    }
   ],
   "source": [
    "!gsutil cp dist/trainer-0.1.tar.gz $BUCKET\"/telco-churn/dist/\""
   ]
  },
  {
   "cell_type": "code",
   "execution_count": null,
   "id": "twenty-starter",
   "metadata": {},
   "outputs": [],
   "source": []
  }
 ],
 "metadata": {
  "environment": {
   "name": "common-cpu.mnightly-2021-02-02-debian-10-test",
   "type": "gcloud",
   "uri": "gcr.io/deeplearning-platform-release/base-cpu:mnightly-2021-02-02-debian-10-test"
  },
  "kernelspec": {
   "display_name": "Python 3",
   "language": "python",
   "name": "python3"
  },
  "language_info": {
   "codemirror_mode": {
    "name": "ipython",
    "version": 3
   },
   "file_extension": ".py",
   "mimetype": "text/x-python",
   "name": "python",
   "nbconvert_exporter": "python",
   "pygments_lexer": "ipython3",
   "version": "3.7.9"
  }
 },
 "nbformat": 4,
 "nbformat_minor": 5
}
